{
 "cells": [
  {
   "cell_type": "code",
   "execution_count": 5,
   "metadata": {},
   "outputs": [
    {
     "name": "stdout",
     "output_type": "stream",
     "text": [
      "El nombre de la persona es Lola, su edad 22 y su dni 22222\n",
      "Lola es mayor de edad\n"
     ]
    }
   ],
   "source": [
    "'''Ejercicio 1\n",
    "Vamos a crear una clase llamada Persona. Sus atributos son: nombre, edad y DNI.\n",
    "Construir los siguientes métodos para la clase:\n",
    "● Un constructor, donde los datos pueden estar vacíos.\n",
    "● mostrar(): Muestra los datos de la persona.\n",
    "● esMayorDeEdad(): Devuelve un valor lógico indicando si es mayor de edad.\n",
    "'''\n",
    "\n",
    "class Persona:\n",
    "    def __init__(self, nombre='', edad=0, dni=0):\n",
    "        self.nombre=nombre\n",
    "        self.edad=edad\n",
    "        self.dni=dni\n",
    "    \n",
    "    def mostrar(self):\n",
    "        print(f'El nombre de la persona es {self.nombre}, su edad {self.edad} y su dni {self.dni}')\n",
    "    \n",
    "    def esMayorDeEdad(self):\n",
    "        if (self.edad>=18):\n",
    "            return true\n",
    "        else: \n",
    "            return false\n",
    "        \n",
    "lola = Persona('Lola', 22, 22222)\n",
    "lola.mostrar()\n",
    "if(lola.esMayorDeEdad):\n",
    "    print(f'{lola.nombre} es mayor de edad')\n",
    "else:\n",
    "    print(f'{lola.apellido} no es mayor de edad')"
   ]
  },
  {
   "cell_type": "code",
   "execution_count": null,
   "metadata": {},
   "outputs": [],
   "source": []
  }
 ],
 "metadata": {
  "kernelspec": {
   "display_name": "Python 3",
   "language": "python",
   "name": "python3"
  },
  "language_info": {
   "codemirror_mode": {
    "name": "ipython",
    "version": 3
   },
   "file_extension": ".py",
   "mimetype": "text/x-python",
   "name": "python",
   "nbconvert_exporter": "python",
   "pygments_lexer": "ipython3",
   "version": "3.8.3"
  }
 },
 "nbformat": 4,
 "nbformat_minor": 4
}
