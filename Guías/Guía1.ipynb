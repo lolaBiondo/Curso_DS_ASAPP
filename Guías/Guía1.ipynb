{
 "cells": [
  {
   "cell_type": "code",
   "execution_count": 1,
   "metadata": {},
   "outputs": [
    {
     "name": "stdout",
     "output_type": "stream",
     "text": [
      "Hello world!!\n"
     ]
    }
   ],
   "source": [
    "'''Ejercicio 1:\n",
    "Crear un programa que imprima el mensaje “hello world!” por pantalla.\n",
    "'''\n",
    "print(\"Hello world!!\")"
   ]
  },
  {
   "cell_type": "code",
   "execution_count": 5,
   "metadata": {},
   "outputs": [
    {
     "name": "stdout",
     "output_type": "stream",
     "text": [
      "Hello wolrd!\n"
     ]
    }
   ],
   "source": [
    "'''Ejercicio 2:\n",
    "Crear un programa que almacene el mensaje “hello world!” en una variable y luego lo\n",
    "imprima por pantalla'''\n",
    "msg='Hello wolrd!'\n",
    "print(msg)"
   ]
  },
  {
   "cell_type": "code",
   "execution_count": 6,
   "metadata": {},
   "outputs": [
    {
     "name": "stdout",
     "output_type": "stream",
     "text": [
      "Ingrese su nombre:\n",
      "Lola\n",
      "Ingrese su edad:\n",
      "21\n",
      "Lola\n",
      "21\n"
     ]
    }
   ],
   "source": [
    "'''Ejercicio 3:\n",
    "Crear un programa que pida al usuario nombre y edad e imprima dichos datos en\n",
    "renglones distintos.\n",
    "'''\n",
    "nombre=input(\"Ingrese su nombre:\\n\")\n",
    "edad=input('Ingrese su edad:\\n')\n",
    "print(nombre)\n",
    "print(edad)"
   ]
  },
  {
   "cell_type": "code",
   "execution_count": 9,
   "metadata": {},
   "outputs": [
    {
     "name": "stdout",
     "output_type": "stream",
     "text": [
      "Ingrese su nombre:\n",
      "Lola\n",
      "Ingrese un número:\n",
      "5\n",
      "Lola\n",
      "Lola\n",
      "Lola\n",
      "Lola\n",
      "Lola\n"
     ]
    }
   ],
   "source": [
    "'''Ejercicio 4:\n",
    "Crear un programa que pregunte el nombre del usuario y un número entero e imprima\n",
    "por pantalla en líneas distintas el nombre del usuario tantas veces como el número\n",
    "introducido.\n",
    "'''\n",
    "nombre=input(\"Ingrese su nombre:\\n\")\n",
    "num=int(input('Ingrese un número:\\n'))\n",
    "for i in range(0, num):\n",
    "    print(nombre)"
   ]
  },
  {
   "cell_type": "code",
   "execution_count": 13,
   "metadata": {},
   "outputs": [
    {
     "name": "stdout",
     "output_type": "stream",
     "text": [
      "Ingrese su nombre:\n",
      "Dolores\n",
      "Dolores tiene 7 letras.\n"
     ]
    }
   ],
   "source": [
    "'''Ejercicio 5:\n",
    "Crear un programa que pregunte el nombre del usuario y después de que el usuario lo\n",
    "introduzca muestre por pantalla <NOMBRE> tiene <n> letras.\n",
    "'''\n",
    "nombre=input(\"Ingrese su nombre:\\n\")\n",
    "print(\"{} tiene {} letras.\".format(nombre, len(nombre)))"
   ]
  },
  {
   "cell_type": "code",
   "execution_count": 14,
   "metadata": {},
   "outputs": [
    {
     "name": "stdout",
     "output_type": "stream",
     "text": [
      "156.25\n"
     ]
    }
   ],
   "source": [
    "'''Crear un programa que realice la siguiente operación aritmética [(3+2)/2*5]^2\n",
    ". Mostrar el\n",
    "resultado por pantalla'''\n",
    "result=((3+2)/2*5)**2\n",
    "print(result)"
   ]
  },
  {
   "cell_type": "code",
   "execution_count": 17,
   "metadata": {},
   "outputs": [
    {
     "name": "stdout",
     "output_type": "stream",
     "text": [
      "Ingrese un número: 5\n",
      "Ingrese otro número: 2\n",
      "El resultado de la división entre 5 y 2 da un cociente igual a 2.5 y un resto 1\n"
     ]
    }
   ],
   "source": [
    "'''Ejercicio 7:\n",
    "Crear un programa que pida al usuario dos números enteros y muestre por pantalla la\n",
    "<n> entre <m> da un cociente <c> y un resto <r> donde <n> y <m> son los números\n",
    "introducidos por el usuario, y <c> y <r> son el cociente y el resto de la división entera\n",
    "respectivamente.\n",
    "'''\n",
    "num=int(input('Ingrese un número: '))\n",
    "den=int(input('Ingrese otro número: '))\n",
    "print('El resultado de la división entre {} y {} da un cociente igual a {} y un resto {}'.format(num, den, num/den, num%den))"
   ]
  },
  {
   "cell_type": "code",
   "execution_count": 3,
   "metadata": {},
   "outputs": [
    {
     "name": "stdout",
     "output_type": "stream",
     "text": [
      "Ingrese la cantidad que desea invertir: 100\n",
      "Ingrese el interés anual. Ej: 0.2 para in interés del 20% anual: 0.1\n",
      "Ingrese la cantidad de años que desea invertir: 10\n",
      "Capital obtenido por la inversion: 200.0\n"
     ]
    }
   ],
   "source": [
    "'''Ejercicio 8:\n",
    "Crear un programa que pregunte al usuario una cantidad a invertir, el interés anual y el\n",
    "número de años, y muestre por pantalla el capital obtenido en la inversión.\n",
    "'''\n",
    "inversion=int(input('Ingrese la cantidad que desea invertir: '))\n",
    "interes=float(input('Ingrese el interés anual. Ej: 0.2 para in interés del 20% anual: '))\n",
    "cantidad_anios=int(input('Ingrese la cantidad de años que desea invertir: '))\n",
    "ganancia=inversion*interes*cantidad_anios\n",
    "capital_final=inversion+ganancia\n",
    "print('Capital obtenido por la inversion:', capital_final)"
   ]
  },
  {
   "cell_type": "code",
   "execution_count": 28,
   "metadata": {},
   "outputs": [
    {
     "name": "stdout",
     "output_type": "stream",
     "text": [
      "Ingrese la cantidad de payasos vendidos en el último pedido: 2\n",
      "Ingrese la cantidad de muñecas vendidas en el último pedido: 4\n",
      "El peso total del paquete que deberá enviar es de 524 g\n"
     ]
    }
   ],
   "source": [
    "'''Ejercicio 9:\n",
    "Una juguetería tiene mucho éxito en dos de sus productos: payasos y muñecas. Suele\n",
    "hacer venta por correo y la empresa de logística les cobra por el peso de cada paquete\n",
    "así que deben calcular el peso de los payasos y muñecas que saldrán en cada paquete\n",
    "a demanda. Cada payaso pesa 112 g y cada muñeca 75 g. Crear un programa que lea\n",
    "el número de payasos y muñecas vendidos en el último pedido y calcule el peso total\n",
    "del paquete que será enviado. Mostrar el resultado por pantalla.\n",
    "'''\n",
    "cant_payasos=int(input('Ingrese la cantidad de payasos vendidos en el último pedido: '))\n",
    "cant_muñecas=int(input('Ingrese la cantidad de muñecas vendidas en el último pedido: '))\n",
    "total_peso=cant_payasos*112+cant_muñecas*75\n",
    "print('El peso total del paquete que deberá enviar es de {} g'.format(total_peso))\n"
   ]
  },
  {
   "cell_type": "code",
   "execution_count": 32,
   "metadata": {},
   "outputs": [
    {
     "name": "stdout",
     "output_type": "stream",
     "text": [
      "Ingrese su edad: 21\n",
      "Usted es mayor de edad\n"
     ]
    }
   ],
   "source": [
    "'''Ejercicio 10:\n",
    "Crear un programa que pida al usuario su edad y muestra por pantalla si es mayor de\n",
    "edad o no, siendo 18 años la mayoría de edad.\n",
    "'''\n",
    "edad=int(input('Ingrese su edad: '))\n",
    "if (edad<18):\n",
    "    print('Usted es menor de edad')\n",
    "else:\n",
    "    print('Usted es mayor de edad')"
   ]
  },
  {
   "cell_type": "code",
   "execution_count": 35,
   "metadata": {},
   "outputs": [
    {
     "name": "stdout",
     "output_type": "stream",
     "text": [
      "ingrese la contraseña: lola2019\n",
      "Contraseña incorrecta.\n"
     ]
    }
   ],
   "source": [
    "'''Ejercicio 11:\n",
    "Crear un programa que almacene la cadena de caracteres contraseña en una variable,\n",
    "pregunte al usuario por la contraseña e imprima por pantalla si la contraseña\n",
    "introducida por el usuario coincide con la guardada en la variable.'''\n",
    "\n",
    "contraseña='lola2020'\n",
    "contraseña_usuario=input(\"ingrese la contraseña: \")\n",
    "if (contraseña==contraseña_usuario):\n",
    "    print(contraseña_usuario)\n",
    "else:\n",
    "    print(\"Contraseña incorrecta.\")"
   ]
  },
  {
   "cell_type": "code",
   "execution_count": 37,
   "metadata": {},
   "outputs": [
    {
     "name": "stdout",
     "output_type": "stream",
     "text": [
      "Ingrese el numerador4\n",
      "Ingrese el denominador1\n",
      "4.0\n"
     ]
    }
   ],
   "source": [
    "'''Ejercicio 12:\n",
    "Crear un programa que pida al usuario dos números y muestre por pantalla su división.\n",
    "Si el divisor es cero, el programa debe devolver un mensaje indicando que no se puede\n",
    "dividir por 0.'''\n",
    "num_1=int(input(\"Ingrese el numerador\"))\n",
    "num_2=int(input(\"Ingrese el denominador\"))\n",
    "if (num_2==0):\n",
    "    print(\"No se puede dividir por 0.\")\n",
    "else:\n",
    "    print(num_1/num_2)"
   ]
  },
  {
   "cell_type": "code",
   "execution_count": 6,
   "metadata": {},
   "outputs": [
    {
     "name": "stdout",
     "output_type": "stream",
     "text": [
      "Ingrese un número a evaluar: 4\n",
      "Es par.\n"
     ]
    }
   ],
   "source": [
    "'''Ejercicio 13:\n",
    "Crear un programa que pida al usuario un número entero y muestre por pantalla si es\n",
    "par o impar.'''\n",
    "num=int(input(\"Ingrese un número a evaluar: \"))\n",
    "if (num%2==0):\n",
    "    print(\"Es par.\")\n",
    "else:\n",
    "    print('Es impar.')"
   ]
  },
  {
   "cell_type": "code",
   "execution_count": 15,
   "metadata": {},
   "outputs": [
    {
     "name": "stdout",
     "output_type": "stream",
     "text": [
      "Inregese la puntuación del usuario: 10\n",
      "Nivel de rendimiento: Meritorio.\n",
      "Cantidad de dinero que recibirá el usuario: 1000000.0\n"
     ]
    }
   ],
   "source": [
    "'''Ejercicio 14:\n",
    "En una determinada empresa, sus empleados son evaluados al final de cada año. Los\n",
    "puntos que pueden obtener en la evaluación comienzan en 0.0 y pueden ir\n",
    "aumentando, traduciéndose en mejores beneficios. Los puntos que pueden conseguir\n",
    "los empleados pueden ser 0.0, 0.4, 0.6 o más, pero no valores intermedios entre las\n",
    "cifras mencionadas. A continuación se muestra una tabla con los niveles\n",
    "correspondientes a cada puntuación. La cantidad de dinero conseguida en cada nivel\n",
    "es de 100000 multiplicada por la puntuación del nivel.\n",
    "Nivel Puntuación\n",
    "Inaceptable 0.0\n",
    "Aceptable 0.4\n",
    "Meritorio 0.6 o más\n",
    "Crear un programa que lea la puntuación del usuario e indique su nivel de rendimiento,\n",
    "así como la cantidad de dinero que recibirá el usuario.'''\n",
    "\n",
    "puntuacion=float(input('Inregese la puntuación del usuario: '))\n",
    "dinero_base=100000\n",
    "if (puntuacion==0.0):\n",
    "    dinero_user=dinero_base*puntuacion\n",
    "    print('Nivel de rendimiento: Inaceptable.')\n",
    "    print('Cantidad de dinero que recibirá el usuario: {}'.format(dinero_user))\n",
    "elif (puntuacion==0.4):\n",
    "    dinero_user=dinero_base*puntuacion\n",
    "    print('Nivel de rendimiento: Aceptable.')\n",
    "    print('Cantidad de dinero que recibirá el usuario: {}'.format(dinero_user))\n",
    "elif (puntuacion>=0.6):\n",
    "    dinero_user=dinero_base*puntuacion\n",
    "    print('Nivel de rendimiento: Meritorio.')\n",
    "    print('Cantidad de dinero que recibirá el usuario: {}'.format(dinero_user))\n",
    "else:\n",
    "    print('Nivel no contemplado.')"
   ]
  },
  {
   "cell_type": "code",
   "execution_count": 21,
   "metadata": {},
   "outputs": [
    {
     "name": "stdout",
     "output_type": "stream",
     "text": [
      "Ingrese la edad: 18\n",
      "Debe pagar $1000.\n"
     ]
    }
   ],
   "source": [
    "'''Ejercicio 15:\n",
    "Crear un programa para una empresa que tiene salas de juegos para todas las edades\n",
    "y quiere calcular de forma automática el precio que debe cobrar a sus clientes por\n",
    "entrar. El programa debe preguntar al usuario la edad del cliente y mostrar el precio de\n",
    "la entrada. Si el cliente es menor de 4 años puede entrar gratis, si tiene entre 4 y 18\n",
    "años debe pagar 500 y si es mayor de 18 años, 1000.'''\n",
    "edad=int(input('Ingrese la edad: '))\n",
    "if (edad<4):\n",
    "    print('Puede entrar gratis!')\n",
    "elif (edad>=4 and edad<18):\n",
    "    print('Debe pagar $500.')\n",
    "else:\n",
    "    print('Debe pagar $1000.')"
   ]
  },
  {
   "cell_type": "code",
   "execution_count": 23,
   "metadata": {},
   "outputs": [
    {
     "name": "stdout",
     "output_type": "stream",
     "text": [
      "Ingrese su edad: 5\n",
      "1\n",
      "2\n",
      "3\n",
      "4\n",
      "5\n"
     ]
    }
   ],
   "source": [
    "'''Ejercicio 16:\n",
    "Crear un programa que pregunte al usuario su edad y muestre por pantalla todos los\n",
    "años que ha cumplido (desde 1 hasta su edad).\n",
    "'''\n",
    "edad=int(input('Ingrese su edad: '))\n",
    "for i in range(0, edad):\n",
    "    print(i+1)\n"
   ]
  },
  {
   "cell_type": "code",
   "execution_count": 5,
   "metadata": {},
   "outputs": [
    {
     "name": "stdout",
     "output_type": "stream",
     "text": [
      "Tabla de multiplicar del 1 al 10:\n",
      "Tabla del 1:  [1, 2, 3, 4, 5, 6, 7, 8, 9, 10]\n",
      "Tabla del 2:  [2, 4, 6, 8, 10, 12, 14, 16, 18, 20]\n",
      "Tabla del 3:  [3, 6, 9, 12, 15, 18, 21, 24, 27, 30]\n",
      "Tabla del 4:  [4, 8, 12, 16, 20, 24, 28, 32, 36, 40]\n",
      "Tabla del 5:  [5, 10, 15, 20, 25, 30, 35, 40, 45, 50]\n",
      "Tabla del 6:  [6, 12, 18, 24, 30, 36, 42, 48, 54, 60]\n",
      "Tabla del 7:  [7, 14, 21, 28, 35, 42, 49, 56, 63, 70]\n",
      "Tabla del 8:  [8, 16, 24, 32, 40, 48, 56, 64, 72, 80]\n",
      "Tabla del 9:  [9, 18, 27, 36, 45, 54, 63, 72, 81, 90]\n",
      "Tabla del 10:  [10, 20, 30, 40, 50, 60, 70, 80, 90, 100]\n"
     ]
    }
   ],
   "source": [
    "'''Ejercicio 17:\n",
    "Crear un programa que muestre por pantalla la tabla de multiplicar del 1 al 10.\n",
    "'''\n",
    "print('Tabla de multiplicar del 1 al 10:')\n",
    "tabla_1=[]\n",
    "tabla_2=[]\n",
    "tabla_3=[]\n",
    "tabla_4=[]\n",
    "tabla_5=[]\n",
    "tabla_6=[]\n",
    "tabla_7=[]\n",
    "tabla_8=[]\n",
    "tabla_9=[]\n",
    "tabla_10=[]\n",
    "#puede hacer con if anidados\n",
    "'''for i in range(11, 11):\n",
    "    print(f'tabla del {i}')\n",
    "    for j in range(1, 11):\n",
    "        print(f'{i}*{j}', i*j)'''\n",
    "        \n",
    "for i in range(0, 10):\n",
    "    tabla_1.append((i+1)*1)\n",
    "for i in range(0, 10):\n",
    "    tabla_2.append((i+1)*2)\n",
    "for i in range(0, 10):\n",
    "    tabla_3.append((i+1)*3)\n",
    "for i in range(0, 10):\n",
    "    tabla_4.append((i+1)*4)\n",
    "for i in range(0, 10):\n",
    "    tabla_5.append((i+1)*5)\n",
    "for i in range(0, 10):\n",
    "    tabla_6.append((i+1)*6)\n",
    "for i in range(0, 10):\n",
    "    tabla_7.append((i+1)*7)\n",
    "for i in range(0, 10):\n",
    "    tabla_8.append((i+1)*8)\n",
    "for i in range(0, 10):\n",
    "    tabla_9.append((i+1)*9)\n",
    "for i in range(0, 10):\n",
    "    tabla_10.append((i+1)*10)\n",
    "print ('Tabla del 1: ', tabla_1)\n",
    "print ('Tabla del 2: ', tabla_2)\n",
    "print ('Tabla del 3: ', tabla_3)\n",
    "print ('Tabla del 4: ', tabla_4)\n",
    "print ('Tabla del 5: ', tabla_5)\n",
    "print ('Tabla del 6: ', tabla_6)\n",
    "print ('Tabla del 7: ', tabla_7)\n",
    "print ('Tabla del 8: ', tabla_8)\n",
    "print ('Tabla del 9: ', tabla_9)\n",
    "print ('Tabla del 10: ', tabla_10)"
   ]
  },
  {
   "cell_type": "code",
   "execution_count": 66,
   "metadata": {},
   "outputs": [
    {
     "name": "stdout",
     "output_type": "stream",
     "text": [
      "Ingrese una palabra: Lola\n",
      "a\n",
      "l\n",
      "o\n",
      "L\n"
     ]
    }
   ],
   "source": [
    "'''Ejercicio 18:\n",
    "Crear un programa que pida al usuario una palabra y luego muestre por pantalla una a\n",
    "una las letras de la palabra introducida empezando por la última.\n",
    "'''\n",
    "palabra=input('Ingrese una palabra: ')\n",
    "palabra_invertida=palabra[::-1]\n",
    "for i in range(0, len(palabra)):\n",
    "    print(palabra_invertida[i])"
   ]
  },
  {
   "cell_type": "code",
   "execution_count": 49,
   "metadata": {},
   "outputs": [
    {
     "name": "stdout",
     "output_type": "stream",
     "text": [
      "Ingrese una frase:\n",
      "Me llamo Dolores pero me dicen Lola\n",
      "Ingrese una letra: l\n",
      "La letra l ocurre 5 veces en la frase ingresada.\n"
     ]
    }
   ],
   "source": [
    "'''Ejercicio 19:\n",
    "Crear un programa en el que se pregunte al usuario por una frase y una letra, y\n",
    "muestre por pantalla el número de veces que aparece la letra en la frase.\n",
    "'''\n",
    "frase=input('Ingrese una frase:\\n')\n",
    "letra=input('Ingrese una letra: ')\n",
    "letra_repetida=(frase.lower()).count(letra)\n",
    "print('La letra {} ocurre {} veces en la frase ingresada.'.format(letra, letra_repetida))"
   ]
  },
  {
   "cell_type": "code",
   "execution_count": 52,
   "metadata": {},
   "outputs": [
    {
     "name": "stdout",
     "output_type": "stream",
     "text": [
      "Ingrese una palabra: agua\n",
      "agua\n",
      "Ingrese una palabra: tierra\n",
      "tierra\n",
      "Ingrese una palabra: aire\n",
      "aire\n",
      "Ingrese una palabra: salir\n"
     ]
    }
   ],
   "source": [
    "'''Ejercicio 20:\n",
    "Crear un programa que muestre el eco de todo lo que el usuario introduzca hasta que\n",
    "el usuario escriba “salir” que terminará.'''\n",
    "cadena=input('Ingrese una palabra: ')\n",
    "while (cadena!='salir'):\n",
    "    print(cadena)\n",
    "    cadena=input('Ingrese una palabra: ')\n"
   ]
  },
  {
   "cell_type": "code",
   "execution_count": 54,
   "metadata": {},
   "outputs": [
    {
     "name": "stdout",
     "output_type": "stream",
     "text": [
      "Yo estudio  Matemáticas\n",
      "Yo estudio  Física\n",
      "Yo estudio  Química\n",
      "Yo estudio  Historia\n",
      "Yo estudio  Lengua\n"
     ]
    }
   ],
   "source": [
    "'''Ejercicio 21:\n",
    "Crear un programa que almacene las asignaturas de un curso (por ejemplo\n",
    "Matemáticas, Física, Química, Historia y Lengua) en una lista y muestre por pantalla el\n",
    "mensaje “Yo estudio <asignatura>”, donde <asignatura> es cada una de las\n",
    "asignaturas de la lista.'''\n",
    "materias=['Matemáticas', 'Física', 'Química', 'Historia', 'Lengua']\n",
    "for mat in materias:\n",
    "    print('Yo estudio ', mat)"
   ]
  },
  {
   "cell_type": "code",
   "execution_count": 69,
   "metadata": {},
   "outputs": [
    {
     "name": "stdout",
     "output_type": "stream",
     "text": [
      "[-1, 0, 6]\n"
     ]
    }
   ],
   "source": [
    "'''Ejercicio 22:\n",
    "Crear un programa que almacene los vectores (1,2,3) y (-1,0,2) en dos listas y muestre\n",
    "por pantalla su producto escalar.\n",
    "'''\n",
    "vec_1=[1, 2, 3]\n",
    "vec_2=[(-1),0,2]\n",
    "multiplicacion = [i*j for i,j in zip(vec_1, vec_2)]\n",
    "print(multiplicacion)"
   ]
  },
  {
   "cell_type": "code",
   "execution_count": 77,
   "metadata": {},
   "outputs": [
    {
     "name": "stdout",
     "output_type": "stream",
     "text": [
      "Ingrese la fruta escogida: Banana\n",
      "Ingrese la cantidad de kilos que desea: 2\n",
      "Deberá pagar: $ 160\n"
     ]
    }
   ],
   "source": [
    "'''Ejercicio 23:\n",
    "Crear un programa que guarde en un diccionario los precios de las frutas de la tabla,\n",
    "pregunte al usuario por una fruta, un número de kilos y muestre por pantalla el precio\n",
    "de ese número de kilos de fruta. Si la fruta no está en el diccionario debe mostrar un\n",
    "mensaje informando de ello.\n",
    "Fruta Precio (kg)\n",
    "Banana 80\n",
    "Manzana 100\n",
    "Pera 50\n",
    "Naranja 70\n",
    "'''\n",
    "fruta_precio={\"Banana\":80, \"Manzana\":100, \"Pera\":50, \"Naranja\":70}\n",
    "fruta=input('Ingrese la fruta escogida: ')\n",
    "if (fruta in fruta_precio):\n",
    "    cant=int(input('Ingrese la cantidad de kilos que desea: '))\n",
    "    precio=fruta_precio[fruta]\n",
    "    tot=cant*precio\n",
    "    print('Deberá pagar: $', tot)\n",
    "else: \n",
    "    print('La fruta no se encuentra cargada.')"
   ]
  },
  {
   "cell_type": "code",
   "execution_count": 89,
   "metadata": {},
   "outputs": [
    {
     "name": "stdout",
     "output_type": "stream",
     "text": [
      "La asignatura Matemáticas tiene 6 creditos.\n",
      "La asignatura Física tiene 4 creditos.\n",
      "La asignatura Química tiene 5 creditos.\n",
      "El total de créditos del curso es:  15\n"
     ]
    }
   ],
   "source": [
    "'''Ejercicio 24:\n",
    "Crear un programa que almacene el diccionario con los créditos de las asignaturas de\n",
    "un curso {'Matemáticas': 6, 'Física': 4, 'Química': 5} y después muestre por pantalla los\n",
    "créditos de cada asignatura en el formato <asignatura> tiene <créditos> créditos,\n",
    "donde <asignatura> es cada una de las asignaturas del curso, y <créditos> son sus\n",
    "créditos. Al final debe mostrar también el número total de créditos del curso.'''\n",
    "materias={'Matemáticas': 6, 'Física': 4, 'Química': 5}\n",
    "tot_creditos=0\n",
    "for key, value in materias.items():\n",
    "    tot_creditos=tot_creditos+materias[key]\n",
    "for key, value in materias.items():\n",
    "    print('La asignatura {} tiene {} creditos.'.format(key, value))\n",
    "print('El total de créditos del curso es: ', tot_creditos)"
   ]
  },
  {
   "cell_type": "code",
   "execution_count": 95,
   "metadata": {},
   "outputs": [
    {
     "name": "stdout",
     "output_type": "stream",
     "text": [
      "Diccionario completo:\n",
      " ['a', 'b', 'c', 'd', 'e', 'f', 'g', 'h', 'i', 'j', 'k', 'l', 'm', 'n', 'o', 'p', 'q', 'r', 's', 't', 'u', 'v', 'w', 'x', 'y', 'z']\n",
      "Diccionario incompleto:\n",
      " ['b', 'c', 'd', 'f', 'g', 'h', 'j', 'k', 'l', 'm', 'n', 'p', 'q', 'r', 's', 't', 'v', 'w', 'x', 'y', 'z']\n"
     ]
    }
   ],
   "source": [
    "'''Ejercicio 25:\n",
    "Crear un programa que, a partir de una lista con todas las letras del abecedario, haga\n",
    "un copia y borre de esta última todas las vocales. Luego imprimir por pantalla ambas\n",
    "listas, la completa y la sin vocales.\n",
    "Para crear la lista del abecedario se puede importar la variable ascii_lowercase del\n",
    "módulo string.'''\n",
    "from string import ascii_lowercase\n",
    "dicc = list(ascii_lowercase)\n",
    "vocales = ['a', 'e', 'i','o','u']\n",
    "dicc_sin_vocales= [e for e in dicc if e not in vocales]\n",
    "print ('Diccionario completo:\\n', dicc)\n",
    "print ('Diccionario incompleto:\\n', dicc_sin_vocales)"
   ]
  },
  {
   "cell_type": "code",
   "execution_count": null,
   "metadata": {},
   "outputs": [],
   "source": []
  }
 ],
 "metadata": {
  "kernelspec": {
   "display_name": "Python 3",
   "language": "python",
   "name": "python3"
  },
  "language_info": {
   "codemirror_mode": {
    "name": "ipython",
    "version": 3
   },
   "file_extension": ".py",
   "mimetype": "text/x-python",
   "name": "python",
   "nbconvert_exporter": "python",
   "pygments_lexer": "ipython3",
   "version": "3.8.3"
  }
 },
 "nbformat": 4,
 "nbformat_minor": 4
}
