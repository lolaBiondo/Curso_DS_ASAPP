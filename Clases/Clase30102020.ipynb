{
 "cells": [
  {
   "cell_type": "code",
   "execution_count": 2,
   "metadata": {},
   "outputs": [
    {
     "name": "stdout",
     "output_type": "stream",
     "text": [
      "[100   9  -5  -5   6  99 200  44  21 789 -10 -11  21  30]\n",
      "92.0\n",
      "21.0\n",
      "ModeResult(mode=array([-5]), count=array([2]))\n",
      "-2.25\n",
      "40566.57142857143\n",
      "201.41144810703148\n"
     ]
    }
   ],
   "source": [
    "import numpy as np\n",
    "from scipy import stats\n",
    "\n",
    "\n",
    "lista_numeros =  [100, 9, -5, -5, 6, 99, 200, 44, 21, 789, -10, -11, 21, 30]\n",
    "arr_numeros = np.array(lista_numeros)\n",
    "print(arr_numeros)\n",
    "\n",
    "media = np.mean(arr_numeros)\n",
    "print(media)\n",
    "\n",
    "mediana = np.median(arr_numeros)\n",
    "print(mediana)\n",
    "\n",
    "moda = stats.mode(arr_numeros)\n",
    "print(moda)\n",
    "\n",
    "percentil = np.percentile(arr_numeros, 25)\n",
    "print(percentil)\n",
    "\n",
    "varianza = np.var(arr_numeros)\n",
    "print(varianza)\n",
    "\n",
    "desvio = np.std(arr_numeros)\n",
    "print(desvio)\n"
   ]
  },
  {
   "cell_type": "code",
   "execution_count": 7,
   "metadata": {},
   "outputs": [
    {
     "name": "stdout",
     "output_type": "stream",
     "text": [
      "[[1 2 3 4]\n",
      " [5 6 7 8]]\n"
     ]
    }
   ],
   "source": [
    "matriz = np.array([[1, 2, 3, 4],[5, 6, 7, 8]])\n",
    "print(matriz)"
   ]
  },
  {
   "cell_type": "code",
   "execution_count": 6,
   "metadata": {},
   "outputs": [
    {
     "name": "stdout",
     "output_type": "stream",
     "text": [
      "[[1. 2. 3. 4.]\n",
      " [5. 6. 7. 8.]]\n"
     ]
    }
   ],
   "source": [
    "array = np.array([[1, 2, 3, 4], [5, 6, 7, 8]], dtype=np.float64)  # indico el tipo de dato\n",
    "print(array)"
   ]
  },
  {
   "cell_type": "code",
   "execution_count": 4,
   "metadata": {},
   "outputs": [
    {
     "name": "stdout",
     "output_type": "stream",
     "text": [
      "[[1 1 1 1]\n",
      " [1 1 1 1]\n",
      " [1 1 1 1]]\n"
     ]
    }
   ],
   "source": [
    "array_unos = np.ones((3, 4), dtype=np.int64) #por defecto los toma como float\n",
    "print(array_unos)"
   ]
  },
  {
   "cell_type": "code",
   "execution_count": 6,
   "metadata": {},
   "outputs": [
    {
     "name": "stdout",
     "output_type": "stream",
     "text": [
      "[[0 0]\n",
      " [0 0]\n",
      " [0 0]\n",
      " [0 0]\n",
      " [0 0]]\n",
      "[[0. 0.]\n",
      " [0. 0.]\n",
      " [0. 0.]\n",
      " [0. 0.]\n",
      " [0. 0.]]\n"
     ]
    }
   ],
   "source": [
    "array_zeros = np.zeros((5, 2), dtype=np.int64)\n",
    "print(array_zeros)\n",
    "array_empty = np.empty((5, 2))\n",
    "print(array_empty)"
   ]
  },
  {
   "cell_type": "code",
   "execution_count": 10,
   "metadata": {},
   "outputs": [
    {
     "name": "stdout",
     "output_type": "stream",
     "text": [
      "[[0.11128642 0.26418801]\n",
      " [0.04763018 0.04317049]\n",
      " [0.29577377 0.6700692 ]]\n",
      "[2 5 5 7 5 4]\n"
     ]
    }
   ],
   "source": [
    "array_random = np.random.random((3, 2)) #crea entre 0 y 1\n",
    "array_randomint = np.random.randint(1, 8, 6, dtype=np.int64) #entre 1 y 8 me saca 6 numeros\n",
    "print(array_random)\n",
    "print(array_randomint)"
   ]
  },
  {
   "cell_type": "code",
   "execution_count": 4,
   "metadata": {},
   "outputs": [
    {
     "name": "stdout",
     "output_type": "stream",
     "text": [
      "[[18 18 18 18]\n",
      " [18 18 18 18]\n",
      " [18 18 18 18]]\n"
     ]
    }
   ],
   "source": [
    "dieciocho = np.full((3,4),18)\n",
    "print(dieciocho)"
   ]
  },
  {
   "cell_type": "code",
   "execution_count": 15,
   "metadata": {},
   "outputs": [
    {
     "name": "stdout",
     "output_type": "stream",
     "text": [
      "[0 3 6 9]\n",
      "[ 0.  5. 10.]\n"
     ]
    }
   ],
   "source": [
    "arreglo_arange = np.arange(0, 10, 3)\n",
    "print(arreglo_arange)\n",
    "arreglo_linespace = np.linspace(0, 10, 3)\n",
    "print(arreglo_linespace)"
   ]
  },
  {
   "cell_type": "code",
   "execution_count": 16,
   "metadata": {},
   "outputs": [
    {
     "name": "stdout",
     "output_type": "stream",
     "text": [
      "[[1. 0. 0. 0. 0.]\n",
      " [0. 1. 0. 0. 0.]\n",
      " [0. 0. 1. 0. 0.]\n",
      " [0. 0. 0. 1. 0.]\n",
      " [0. 0. 0. 0. 1.]]\n"
     ]
    }
   ],
   "source": [
    "identidad=np.identity(5)\n",
    "print(identidad)"
   ]
  },
  {
   "cell_type": "code",
   "execution_count": 17,
   "metadata": {},
   "outputs": [
    {
     "name": "stdout",
     "output_type": "stream",
     "text": [
      "(3, 4)\n",
      "int32\n",
      "12\n"
     ]
    }
   ],
   "source": [
    "array = np.array([(1, 3, 5, 7), (9, 3, 4, 5), (1, 1, 1, 1)])\n",
    "\n",
    "print(array.shape)  # dimensión\n",
    "print(array.dtype)  # tipo de dato\n",
    "print(array.size)  # cantidad de elementos del arreglo\n"
   ]
  },
  {
   "cell_type": "code",
   "execution_count": 21,
   "metadata": {},
   "outputs": [
    {
     "name": "stdout",
     "output_type": "stream",
     "text": [
      "[[ 8  9 10  7]\n",
      " [11 12 13  9]]\n",
      "\n",
      "[[ 8  9]\n",
      " [10  7]\n",
      " [11 12]\n",
      " [13  9]]\n"
     ]
    }
   ],
   "source": [
    "array = np.array([(8, 9, 10, 7), (11, 12, 13, 9)])\n",
    "print(array)\n",
    "print()\n",
    "array = array.reshape(4, 2)\n",
    "print(array)"
   ]
  },
  {
   "cell_type": "code",
   "execution_count": 22,
   "metadata": {},
   "outputs": [
    {
     "name": "stdout",
     "output_type": "stream",
     "text": [
      "[[2.82842712 3.         3.16227766]\n",
      " [3.31662479 3.46410162 3.60555128]]\n",
      "1.707825127659933\n",
      "[[15 25 11]\n",
      " [20 24 19]]\n",
      "[[ 1 -7  9]\n",
      " [ 2  0  7]]\n"
     ]
    }
   ],
   "source": [
    "array = np.array([(8, 9, 10), (11, 12, 13)])\n",
    "print(np.sqrt(array))\n",
    "print(np.std(array))\n",
    "\n",
    "array_2 = np.array([(7, 16, 1), (9, 12, 6)])\n",
    "print(array + array_2)\n",
    "print(array - array_2)"
   ]
  },
  {
   "cell_type": "code",
   "execution_count": 23,
   "metadata": {},
   "outputs": [
    {
     "name": "stdout",
     "output_type": "stream",
     "text": [
      "[[ 9  8 10]\n",
      " [11 12  5]]\n"
     ]
    }
   ],
   "source": [
    "array = np.array([(8, 7, 9), (10, 11, 4)])\n",
    "array_2 = 1 + array\n",
    "print(array_2)"
   ]
  },
  {
   "cell_type": "code",
   "execution_count": null,
   "metadata": {},
   "outputs": [],
   "source": []
  }
 ],
 "metadata": {
  "kernelspec": {
   "display_name": "Python 3.8.2 32-bit",
   "language": "python",
   "name": "python38232bit81bc11a0cc3e44f8b5babd028da49ccf"
  },
  "language_info": {
   "codemirror_mode": {
    "name": "ipython",
    "version": 3
   },
   "file_extension": ".py",
   "mimetype": "text/x-python",
   "name": "python",
   "nbconvert_exporter": "python",
   "pygments_lexer": "ipython3",
   "version": "3.8.2"
  }
 },
 "nbformat": 4,
 "nbformat_minor": 4
}
