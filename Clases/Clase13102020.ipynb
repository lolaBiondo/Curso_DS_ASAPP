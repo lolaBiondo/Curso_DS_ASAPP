{
 "cells": [
  {
   "cell_type": "code",
   "execution_count": 2,
   "metadata": {},
   "outputs": [
    {
     "name": "stdout",
     "output_type": "stream",
     "text": [
      "0\n",
      "1\n",
      "10\n"
     ]
    }
   ],
   "source": [
    "def suma(a=0, b=0):\n",
    "    sumatoria=a+b\n",
    "    print(sumatoria)\n",
    "\n",
    "suma()\n",
    "suma(1)\n",
    "suma(4,6)"
   ]
  },
  {
   "cell_type": "code",
   "execution_count": 4,
   "metadata": {},
   "outputs": [
    {
     "name": "stdout",
     "output_type": "stream",
     "text": [
      "1\n",
      "10\n"
     ]
    }
   ],
   "source": [
    "def suma(a, b=0):\n",
    "    sumatoria=a+b\n",
    "    print(sumatoria)\n",
    "\n",
    "suma(1)\n",
    "suma(4,6)"
   ]
  },
  {
   "cell_type": "code",
   "execution_count": 6,
   "metadata": {},
   "outputs": [
    {
     "name": "stdout",
     "output_type": "stream",
     "text": [
      "0\n",
      "1\n",
      "7\n"
     ]
    }
   ],
   "source": [
    "def suma(*args):\n",
    "    sumatoria=0\n",
    "    for arg in args:\n",
    "        sumatoria += arg\n",
    "    print(sumatoria)\n",
    "    \n",
    "suma()\n",
    "suma(1)\n",
    "suma(1, 2, 4)"
   ]
  },
  {
   "cell_type": "code",
   "execution_count": 7,
   "metadata": {},
   "outputs": [
    {
     "name": "stdout",
     "output_type": "stream",
     "text": [
      "10\n",
      "15\n",
      "10\n"
     ]
    }
   ],
   "source": [
    "num=10\n",
    "def locales():\n",
    "    num=15\n",
    "    print(num)\n",
    "    \n",
    "print(num)\n",
    "locales()\n",
    "print(num)"
   ]
  },
  {
   "cell_type": "code",
   "execution_count": 8,
   "metadata": {},
   "outputs": [
    {
     "name": "stdout",
     "output_type": "stream",
     "text": [
      "10\n",
      "15\n",
      "15\n"
     ]
    }
   ],
   "source": [
    "num=10\n",
    "def locales():\n",
    "    global num\n",
    "    num=15\n",
    "    print(num)\n",
    "    \n",
    "print(num)\n",
    "locales()\n",
    "print(num)"
   ]
  },
  {
   "cell_type": "code",
   "execution_count": 10,
   "metadata": {},
   "outputs": [
    {
     "name": "stdout",
     "output_type": "stream",
     "text": [
      "120\n"
     ]
    }
   ],
   "source": [
    "def factorial(num):\n",
    "    if(num==1):\n",
    "        return num\n",
    "    else:\n",
    "        fact=num*(factorial(num-1))\n",
    "        return fact\n",
    "print(factorial(5))"
   ]
  },
  {
   "cell_type": "code",
   "execution_count": null,
   "metadata": {},
   "outputs": [],
   "source": []
  }
 ],
 "metadata": {
  "kernelspec": {
   "display_name": "Python 3.8.2 32-bit",
   "language": "python",
   "name": "python38232bit81bc11a0cc3e44f8b5babd028da49ccf"
  },
  "language_info": {
   "codemirror_mode": {
    "name": "ipython",
    "version": 3
   },
   "file_extension": ".py",
   "mimetype": "text/x-python",
   "name": "python",
   "nbconvert_exporter": "python",
   "pygments_lexer": "ipython3",
   "version": "3.8.2"
  }
 },
 "nbformat": 4,
 "nbformat_minor": 4
}
