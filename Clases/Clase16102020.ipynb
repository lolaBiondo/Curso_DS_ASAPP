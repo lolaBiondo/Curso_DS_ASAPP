{
 "cells": [
  {
   "cell_type": "code",
   "execution_count": 4,
   "metadata": {},
   "outputs": [
    {
     "name": "stdout",
     "output_type": "stream",
     "text": [
      "Su nombre es  Dolores\n",
      "Juan\n",
      "Su nombre es Juan y su legajo 1000\n"
     ]
    }
   ],
   "source": [
    "#herencia\n",
    "\n",
    "class Persona:\n",
    "    def __init__(self, nombre):\n",
    "        self.nombre=nombre\n",
    "    \n",
    "    def descripcion(self):\n",
    "        print ('Su nombre es ', self.nombre)\n",
    "\n",
    "lola = Persona('Dolores')\n",
    "lola.descripcion()\n",
    "\n",
    "\n",
    "class Empleado(Persona):\n",
    "    def __init__(self, nombre, legajo):\n",
    "        super().__init__(nombre)\n",
    "        self.legajo=legajo\n",
    "    \n",
    "    def descripcion(self):\n",
    "        print('Su nombre es {} y su legajo {}'.format(self.nombre, self.legajo))\n",
    "        \n",
    "juan = Empleado(\"Juan\", 1000)\n",
    "print(juan.nombre)\n",
    "juan.descripcion()"
   ]
  },
  {
   "cell_type": "code",
   "execution_count": 12,
   "metadata": {},
   "outputs": [
    {
     "name": "stdout",
     "output_type": "stream",
     "text": [
      "Su nombre es Dolores y su dni 1111\n",
      "1111\n",
      "Dolores es una persona y respira.\n"
     ]
    }
   ],
   "source": [
    "#encapsulamiento\n",
    "\n",
    "class Persona:\n",
    "    def __init__(self, nombre, dni):\n",
    "        self.nombre=nombre\n",
    "        self.__dni=dni\n",
    "    \n",
    "    def descripcion(self):\n",
    "        print ('Su nombre es {} y su dni {}'.format(self.nombre, self.__dni))\n",
    "        \n",
    "    def doc(self):\n",
    "        print(self.__dni)\n",
    "        \n",
    "    def __respira(self):\n",
    "        print(f'{self.nombre} es una persona y respira.')\n",
    "    \n",
    "    def respira(self):\n",
    "        self.__respira()\n",
    "        \n",
    "\n",
    "lola = Persona('Dolores', 1111)\n",
    "lola.descripcion()\n",
    "#lola.__dni tira error porque está encapsulado, tengo q hacer metodo aparte p mostrarlo solo\n",
    "lola.doc()\n",
    "#lola.__respira() tira error también\n",
    "lola.respira()\n"
   ]
  },
  {
   "cell_type": "code",
   "execution_count": 17,
   "metadata": {},
   "outputs": [
    {
     "name": "stdout",
     "output_type": "stream",
     "text": [
      "Olivia es un perro\n",
      "Nemo es un pez\n"
     ]
    }
   ],
   "source": [
    "#polimorfismo\n",
    "\n",
    "class Pez:\n",
    "    def __init__(self, nombre):\n",
    "        self.nombre=nombre\n",
    "        self.tipo='pez'\n",
    "    \n",
    "    def descripcion(self):\n",
    "        print(f'{self.nombre} es un {self.tipo}')\n",
    "        \n",
    "class Perro:\n",
    "    def __init__(self, nombre):\n",
    "        self.nombre=nombre\n",
    "        self.tipo='perro'\n",
    "    \n",
    "    def descripcion(self):\n",
    "        print(f'{self.nombre} es un {self.tipo}')\n",
    "\n",
    "olivia = Perro('Olivia')\n",
    "nemo = Pez('Nemo')\n",
    "olivia.descripcion()\n",
    "nemo.descripcion()"
   ]
  },
  {
   "cell_type": "code",
   "execution_count": null,
   "metadata": {},
   "outputs": [],
   "source": []
  }
 ],
 "metadata": {
  "kernelspec": {
   "display_name": "Python 3",
   "language": "python",
   "name": "python3"
  },
  "language_info": {
   "codemirror_mode": {
    "name": "ipython",
    "version": 3
   },
   "file_extension": ".py",
   "mimetype": "text/x-python",
   "name": "python",
   "nbconvert_exporter": "python",
   "pygments_lexer": "ipython3",
   "version": "3.8.3"
  }
 },
 "nbformat": 4,
 "nbformat_minor": 4
}
