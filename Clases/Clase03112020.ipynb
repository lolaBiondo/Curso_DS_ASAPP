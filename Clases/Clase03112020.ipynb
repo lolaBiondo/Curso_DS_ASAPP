{
 "cells": [
  {
   "cell_type": "code",
   "execution_count": 2,
   "metadata": {},
   "outputs": [
    {
     "name": "stdout",
     "output_type": "stream",
     "text": [
      "[[ 1  4 19 10  5]\n",
      " [ 3  9 10  8  8]]\n",
      "[[ 1  4 19 10  5]\n",
      " [ 3  9 10  8  8]]\n",
      "124266480\n",
      "124266840\n",
      "124266800\n",
      "124266800\n",
      "124266800\n"
     ]
    }
   ],
   "source": [
    "import numpy as np\n",
    "\n",
    "\n",
    "array = np.array(([1, 4, 19, 10, 5], [3, 9, 10, 8, 8]))\n",
    "\n",
    "array_4 = np.copy(array)\n",
    "print(array_4)\n",
    "\n",
    "array_5 = array[:]\n",
    "print(array_5)\n",
    "\n",
    "print(id(array_4))\n",
    "print(id(array_5))\n",
    "print(id(array))\n",
    "\n",
    "array_6 = array\n",
    "\n",
    "print(id(array))\n",
    "print(id(array_6))"
   ]
  },
  {
   "cell_type": "code",
   "execution_count": 15,
   "metadata": {},
   "outputs": [
    {
     "name": "stdout",
     "output_type": "stream",
     "text": [
      "[ True False  True False]\n"
     ]
    }
   ],
   "source": [
    "array_7= np.array([5, 0, -2, 0.0], dtype=bool)\n",
    "print(array_7)"
   ]
  },
  {
   "cell_type": "code",
   "execution_count": 14,
   "metadata": {},
   "outputs": [
    {
     "name": "stdout",
     "output_type": "stream",
     "text": [
      "[ True  True  True  True False  True  True False]\n",
      "[ True False False False False  True False False]\n",
      "\n",
      "[ True  True  True  True False  True  True False]\n",
      "[ True False False False False  True False False]\n"
     ]
    }
   ],
   "source": [
    "array = np.array([1, 0, 1, 1, 0, 1, 0, 0], dtype=bool)\n",
    "array_2 = np.array([1, 1, 0, 0, 0, 1, 1, 0], dtype=bool)\n",
    "\n",
    "array_3 = array | array_2\n",
    "array_4 = array & array_2\n",
    "print(array_3)\n",
    "print(array_4)\n",
    "print()\n",
    "array_5 = np.logical_or(array, array_2)\n",
    "array_6 = np.logical_and(array, array_2)\n",
    "print(array_5)\n",
    "print(array_6)"
   ]
  },
  {
   "cell_type": "code",
   "execution_count": 16,
   "metadata": {},
   "outputs": [
    {
     "data": {
      "text/plain": [
       "False"
      ]
     },
     "execution_count": 16,
     "metadata": {},
     "output_type": "execute_result"
    }
   ],
   "source": [
    "array_7= np.array([5, 0, -2, 0.0], dtype=bool)\n",
    "all(array_7)"
   ]
  },
  {
   "cell_type": "code",
   "execution_count": 17,
   "metadata": {},
   "outputs": [
    {
     "data": {
      "text/plain": [
       "True"
      ]
     },
     "execution_count": 17,
     "metadata": {},
     "output_type": "execute_result"
    }
   ],
   "source": [
    "array_7= np.array([5, 0, -2, 0.0], dtype=bool)\n",
    "any(array_7)"
   ]
  },
  {
   "cell_type": "code",
   "execution_count": 22,
   "metadata": {},
   "outputs": [
    {
     "name": "stdout",
     "output_type": "stream",
     "text": [
      "[[44 47 64 67 67]\n",
      " [ 9 83 21 36 87]\n",
      " [70 88 88 12 58]\n",
      " [65 39 87 46 88]\n",
      " [81 37 25 77 72]]\n",
      "[[ True  True False False False]\n",
      " [ True False  True  True False]\n",
      " [False False False  True False]\n",
      " [False  True False  True False]\n",
      " [False  True  True False False]]\n",
      "[[False False False False False]\n",
      " [False False False False False]\n",
      " [False  True  True False False]\n",
      " [False False False False  True]\n",
      " [False False False False False]]\n",
      "[[False False False False False]\n",
      " [False False False False False]\n",
      " [False False False False False]\n",
      " [False False False False False]\n",
      " [False False False False False]]\n",
      "[[ True  True False False False]\n",
      " [ True False  True  True False]\n",
      " [False False False  True False]\n",
      " [False  True False  True False]\n",
      " [False  True  True False False]]\n",
      "25\n",
      "[2 3 1 2 2]\n"
     ]
    }
   ],
   "source": [
    "np.random.seed(0)\n",
    "array = np.random.randint(0, 100, (5, 5))\n",
    "print(array)\n",
    "\n",
    "# Operadores\n",
    "print(array < 50)\n",
    "print(array == 88)\n",
    "\n",
    "# Métodos\n",
    "print(np.equal(array, 30))\n",
    "print(np.less(array, 50))\n",
    "print(np.count_nonzero(array))\n",
    "print(np.sum(array < 50, axis=1)) # cuántos elementos menores a 50 en cada fila\n"
   ]
  },
  {
   "cell_type": "code",
   "execution_count": 23,
   "metadata": {},
   "outputs": [
    {
     "name": "stdout",
     "output_type": "stream",
     "text": [
      "[('Alice', 25, 1.55) ('Bob', 35, 1.81) ('Cathy', 45, 1.67)\n",
      " ('Doug', 55, 1.78)]\n",
      "['Alice' 'Bob' 'Cathy' 'Doug']\n",
      "[25 35 45 55]\n",
      "[1.55 1.81 1.67 1.78]\n"
     ]
    }
   ],
   "source": [
    "# Arreglo estructurado\n",
    "name = [\"Alice\", \"Bob\", \"Cathy\", \"Doug\"]\n",
    "age = [25, 35, 45, 55]\n",
    "heigth = [1.55, 1.81, 1.67, 1.78]\n",
    "\n",
    "data = np.zeros(4, dtype={'names': ('name', 'age', 'height'), 'formats': ('U10', 'i4', 'f8')})\n",
    "data['name'] = name\n",
    "data['age'] = age\n",
    "data['height'] = heigth\n",
    "\n",
    "print(data)\n",
    "\n",
    "# Records: los labels pueden ser accedidos como si fueran atributos\n",
    "data = np.rec.array([(\"Alice\", 25, 1.55), (\"Bob\", 35, 1.81), (\"Cathy\", 45, 1.67), (\"Doug\", 55, 1.78)],\n",
    "                   dtype=[('name', 'U10'), ('age', 'i4'), ('height', 'f8')])\n",
    "print(data.name)\n",
    "print(data.age)\n",
    "print(data.height)"
   ]
  },
  {
   "cell_type": "code",
   "execution_count": null,
   "metadata": {},
   "outputs": [],
   "source": []
  }
 ],
 "metadata": {
  "kernelspec": {
   "display_name": "Python 3.8.2 32-bit",
   "language": "python",
   "name": "python38232bit81bc11a0cc3e44f8b5babd028da49ccf"
  },
  "language_info": {
   "codemirror_mode": {
    "name": "ipython",
    "version": 3
   },
   "file_extension": ".py",
   "mimetype": "text/x-python",
   "name": "python",
   "nbconvert_exporter": "python",
   "pygments_lexer": "ipython3",
   "version": "3.8.2"
  }
 },
 "nbformat": 4,
 "nbformat_minor": 4
}
