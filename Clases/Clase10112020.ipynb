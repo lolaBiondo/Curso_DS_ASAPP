{
 "cells": [
  {
   "cell_type": "code",
   "execution_count": 31,
   "metadata": {},
   "outputs": [
    {
     "name": "stdout",
     "output_type": "stream",
     "text": [
      "      pclass  survived                                             name  \\\n",
      "0          1         1                    Allen, Miss. Elisabeth Walton   \n",
      "1          1         1                   Allison, Master. Hudson Trevor   \n",
      "2          1         0                     Allison, Miss. Helen Loraine   \n",
      "3          1         0             Allison, Mr. Hudson Joshua Creighton   \n",
      "4          1         0  Allison, Mrs. Hudson J C (Bessie Waldo Daniels)   \n",
      "...      ...       ...                                              ...   \n",
      "1304       3         0                             Zabour, Miss. Hileni   \n",
      "1305       3         0                            Zabour, Miss. Thamine   \n",
      "1306       3         0                        Zakarian, Mr. Mapriededer   \n",
      "1307       3         0                              Zakarian, Mr. Ortin   \n",
      "1308       3         0                               Zimmerman, Mr. Leo   \n",
      "\n",
      "         sex      age  sibsp  parch  ticket      fare    cabin embarked boat  \\\n",
      "0     female  29.0000      0      0   24160  211.3375       B5        S    2   \n",
      "1       male   0.9167      1      2  113781  151.5500  C22 C26        S   11   \n",
      "2     female   2.0000      1      2  113781  151.5500  C22 C26        S  NaN   \n",
      "3       male  30.0000      1      2  113781  151.5500  C22 C26        S  NaN   \n",
      "4     female  25.0000      1      2  113781  151.5500  C22 C26        S  NaN   \n",
      "...      ...      ...    ...    ...     ...       ...      ...      ...  ...   \n",
      "1304  female  14.5000      1      0    2665   14.4542      NaN        C  NaN   \n",
      "1305  female      NaN      1      0    2665   14.4542      NaN        C  NaN   \n",
      "1306    male  26.5000      0      0    2656    7.2250      NaN        C  NaN   \n",
      "1307    male  27.0000      0      0    2670    7.2250      NaN        C  NaN   \n",
      "1308    male  29.0000      0      0  315082    7.8750      NaN        S  NaN   \n",
      "\n",
      "       body                        home.dest  \n",
      "0       NaN                     St Louis, MO  \n",
      "1       NaN  Montreal, PQ / Chesterville, ON  \n",
      "2       NaN  Montreal, PQ / Chesterville, ON  \n",
      "3     135.0  Montreal, PQ / Chesterville, ON  \n",
      "4       NaN  Montreal, PQ / Chesterville, ON  \n",
      "...     ...                              ...  \n",
      "1304  328.0                              NaN  \n",
      "1305    NaN                              NaN  \n",
      "1306  304.0                              NaN  \n",
      "1307    NaN                              NaN  \n",
      "1308    NaN                              NaN  \n",
      "\n",
      "[1309 rows x 14 columns]\n"
     ]
    }
   ],
   "source": [
    "import numpy as np\n",
    "import pandas as pd\n",
    "\n",
    "df = pd.read_csv('titanic3.csv')\n",
    "print(df)"
   ]
  },
  {
   "cell_type": "code",
   "execution_count": 2,
   "metadata": {},
   "outputs": [
    {
     "name": "stdout",
     "output_type": "stream",
     "text": [
      "      pclass  survived                                             name  \\\n",
      "0          1         1                    Allen, Miss. Elisabeth Walton   \n",
      "1          1         1                   Allison, Master. Hudson Trevor   \n",
      "2          1         0                     Allison, Miss. Helen Loraine   \n",
      "3          1         0             Allison, Mr. Hudson Joshua Creighton   \n",
      "4          1         0  Allison, Mrs. Hudson J C (Bessie Waldo Daniels)   \n",
      "...      ...       ...                                              ...   \n",
      "1304       3         0                             Zabour, Miss. Hileni   \n",
      "1305       3         0                            Zabour, Miss. Thamine   \n",
      "1306       3         0                        Zakarian, Mr. Mapriededer   \n",
      "1307       3         0                              Zakarian, Mr. Ortin   \n",
      "1308       3         0                               Zimmerman, Mr. Leo   \n",
      "\n",
      "         sex      age  sibsp  parch  ticket      fare    cabin embarked boat  \\\n",
      "0     female  29.0000      0      0   24160  211.3375       B5        S    2   \n",
      "1       male   0.9167      1      2  113781  151.5500  C22 C26        S   11   \n",
      "2     female   2.0000      1      2  113781  151.5500  C22 C26        S  NaN   \n",
      "3       male  30.0000      1      2  113781  151.5500  C22 C26        S  NaN   \n",
      "4     female  25.0000      1      2  113781  151.5500  C22 C26        S  NaN   \n",
      "...      ...      ...    ...    ...     ...       ...      ...      ...  ...   \n",
      "1304  female  14.5000      1      0    2665   14.4542      NaN        C  NaN   \n",
      "1305  female      NaN      1      0    2665   14.4542      NaN        C  NaN   \n",
      "1306    male  26.5000      0      0    2656    7.2250      NaN        C  NaN   \n",
      "1307    male  27.0000      0      0    2670    7.2250      NaN        C  NaN   \n",
      "1308    male  29.0000      0      0  315082    7.8750      NaN        S  NaN   \n",
      "\n",
      "       body                        home.dest  \n",
      "0       NaN                     St Louis, MO  \n",
      "1       NaN  Montreal, PQ / Chesterville, ON  \n",
      "2       NaN  Montreal, PQ / Chesterville, ON  \n",
      "3     135.0  Montreal, PQ / Chesterville, ON  \n",
      "4       NaN  Montreal, PQ / Chesterville, ON  \n",
      "...     ...                              ...  \n",
      "1304  328.0                              NaN  \n",
      "1305    NaN                              NaN  \n",
      "1306  304.0                              NaN  \n",
      "1307    NaN                              NaN  \n",
      "1308    NaN                              NaN  \n",
      "\n",
      "[1309 rows x 14 columns]\n"
     ]
    }
   ],
   "source": [
    "print(df.dropna(axis=0, how=\"all\"))"
   ]
  },
  {
   "cell_type": "code",
   "execution_count": 4,
   "metadata": {},
   "outputs": [
    {
     "name": "stdout",
     "output_type": "stream",
     "text": [
      "Empty DataFrame\n",
      "Columns: [pclass, survived, name, sex, age, sibsp, parch, ticket, fare, cabin, embarked, boat, body, home.dest]\n",
      "Index: []\n"
     ]
    }
   ],
   "source": [
    "print(df.dropna(axis=0, how=\"any\"))"
   ]
  },
  {
   "cell_type": "code",
   "execution_count": 5,
   "metadata": {},
   "outputs": [
    {
     "name": "stdout",
     "output_type": "stream",
     "text": [
      "      pclass  survived                                             name  \\\n",
      "0          1         1                    Allen, Miss. Elisabeth Walton   \n",
      "1          1         1                   Allison, Master. Hudson Trevor   \n",
      "2          1         0                     Allison, Miss. Helen Loraine   \n",
      "3          1         0             Allison, Mr. Hudson Joshua Creighton   \n",
      "4          1         0  Allison, Mrs. Hudson J C (Bessie Waldo Daniels)   \n",
      "...      ...       ...                                              ...   \n",
      "1304       3         0                             Zabour, Miss. Hileni   \n",
      "1305       3         0                            Zabour, Miss. Thamine   \n",
      "1306       3         0                        Zakarian, Mr. Mapriededer   \n",
      "1307       3         0                              Zakarian, Mr. Ortin   \n",
      "1308       3         0                               Zimmerman, Mr. Leo   \n",
      "\n",
      "         sex      age  sibsp  parch  ticket      fare    cabin embarked boat  \\\n",
      "0     female  29.0000      0      0   24160  211.3375       B5        S    2   \n",
      "1       male   0.9167      1      2  113781  151.5500  C22 C26        S   11   \n",
      "2     female   2.0000      1      2  113781  151.5500  C22 C26        S    0   \n",
      "3       male  30.0000      1      2  113781  151.5500  C22 C26        S    0   \n",
      "4     female  25.0000      1      2  113781  151.5500  C22 C26        S    0   \n",
      "...      ...      ...    ...    ...     ...       ...      ...      ...  ...   \n",
      "1304  female  14.5000      1      0    2665   14.4542        0        C    0   \n",
      "1305  female   0.0000      1      0    2665   14.4542        0        C    0   \n",
      "1306    male  26.5000      0      0    2656    7.2250        0        C    0   \n",
      "1307    male  27.0000      0      0    2670    7.2250        0        C    0   \n",
      "1308    male  29.0000      0      0  315082    7.8750        0        S    0   \n",
      "\n",
      "       body                        home.dest  \n",
      "0       0.0                     St Louis, MO  \n",
      "1       0.0  Montreal, PQ / Chesterville, ON  \n",
      "2       0.0  Montreal, PQ / Chesterville, ON  \n",
      "3     135.0  Montreal, PQ / Chesterville, ON  \n",
      "4       0.0  Montreal, PQ / Chesterville, ON  \n",
      "...     ...                              ...  \n",
      "1304  328.0                                0  \n",
      "1305    0.0                                0  \n",
      "1306  304.0                                0  \n",
      "1307    0.0                                0  \n",
      "1308    0.0                                0  \n",
      "\n",
      "[1309 rows x 14 columns]\n"
     ]
    }
   ],
   "source": [
    "print(df.fillna(0))"
   ]
  },
  {
   "cell_type": "code",
   "execution_count": 6,
   "metadata": {},
   "outputs": [
    {
     "name": "stdout",
     "output_type": "stream",
     "text": [
      "      pclass  survived                                             name  \\\n",
      "0          1         1                    Allen, Miss. Elisabeth Walton   \n",
      "1          1         1                   Allison, Master. Hudson Trevor   \n",
      "2          1         0                     Allison, Miss. Helen Loraine   \n",
      "3          1         0             Allison, Mr. Hudson Joshua Creighton   \n",
      "4          1         0  Allison, Mrs. Hudson J C (Bessie Waldo Daniels)   \n",
      "...      ...       ...                                              ...   \n",
      "1304       3         0                             Zabour, Miss. Hileni   \n",
      "1305       3         0                            Zabour, Miss. Thamine   \n",
      "1306       3         0                        Zakarian, Mr. Mapriededer   \n",
      "1307       3         0                              Zakarian, Mr. Ortin   \n",
      "1308       3         0                               Zimmerman, Mr. Leo   \n",
      "\n",
      "         sex          age  sibsp  parch  ticket     fare        cabin  \\\n",
      "0     female           29      0      0   24160  211.338           B5   \n",
      "1       male       0.9167      1      2  113781   151.55      C22 C26   \n",
      "2     female            2      1      2  113781   151.55      C22 C26   \n",
      "3       male           30      1      2  113781   151.55      C22 C26   \n",
      "4     female           25      1      2  113781   151.55      C22 C26   \n",
      "...      ...          ...    ...    ...     ...      ...          ...   \n",
      "1304  female         14.5      1      0    2665  14.4542  Desconocido   \n",
      "1305  female  Desconocido      1      0    2665  14.4542  Desconocido   \n",
      "1306    male         26.5      0      0    2656    7.225  Desconocido   \n",
      "1307    male           27      0      0    2670    7.225  Desconocido   \n",
      "1308    male           29      0      0  315082    7.875  Desconocido   \n",
      "\n",
      "     embarked         boat         body                        home.dest  \n",
      "0           S            2  Desconocido                     St Louis, MO  \n",
      "1           S           11  Desconocido  Montreal, PQ / Chesterville, ON  \n",
      "2           S  Desconocido  Desconocido  Montreal, PQ / Chesterville, ON  \n",
      "3           S  Desconocido          135  Montreal, PQ / Chesterville, ON  \n",
      "4           S  Desconocido  Desconocido  Montreal, PQ / Chesterville, ON  \n",
      "...       ...          ...          ...                              ...  \n",
      "1304        C  Desconocido          328                      Desconocido  \n",
      "1305        C  Desconocido  Desconocido                      Desconocido  \n",
      "1306        C  Desconocido          304                      Desconocido  \n",
      "1307        C  Desconocido  Desconocido                      Desconocido  \n",
      "1308        S  Desconocido  Desconocido                      Desconocido  \n",
      "\n",
      "[1309 rows x 14 columns]\n"
     ]
    }
   ],
   "source": [
    "print(df.fillna('Desconocido'))"
   ]
  },
  {
   "cell_type": "code",
   "execution_count": 12,
   "metadata": {},
   "outputs": [
    {
     "name": "stdout",
     "output_type": "stream",
     "text": [
      "0         0.0\n",
      "1         0.0\n",
      "2         0.0\n",
      "3       135.0\n",
      "4         0.0\n",
      "        ...  \n",
      "1304    328.0\n",
      "1305      0.0\n",
      "1306    304.0\n",
      "1307      0.0\n",
      "1308      0.0\n",
      "Name: body, Length: 1309, dtype: float64\n",
      "0                          St Louis, MO\n",
      "1       Montreal, PQ / Chesterville, ON\n",
      "2       Montreal, PQ / Chesterville, ON\n",
      "3       Montreal, PQ / Chesterville, ON\n",
      "4       Montreal, PQ / Chesterville, ON\n",
      "                     ...               \n",
      "1304                        desconocido\n",
      "1305                        desconocido\n",
      "1306                        desconocido\n",
      "1307                        desconocido\n",
      "1308                        desconocido\n",
      "Name: home.dest, Length: 1309, dtype: object\n",
      "0       29.000000\n",
      "1        0.916700\n",
      "2        2.000000\n",
      "3       30.000000\n",
      "4       25.000000\n",
      "          ...    \n",
      "1304    14.500000\n",
      "1305    29.881135\n",
      "1306    26.500000\n",
      "1307    27.000000\n",
      "1308    29.000000\n",
      "Name: age, Length: 1309, dtype: float64\n"
     ]
    }
   ],
   "source": [
    "print(df['body'].fillna(0))\n",
    "print(df['home.dest'].fillna('desconocido'))\n",
    "print(df['age'].fillna(df['age'].mean()))"
   ]
  },
  {
   "cell_type": "code",
   "execution_count": 13,
   "metadata": {},
   "outputs": [
    {
     "name": "stdout",
     "output_type": "stream",
     "text": [
      "0       female\n",
      "1         male\n",
      "2       female\n",
      "3         male\n",
      "4       female\n",
      "         ...  \n",
      "1304    female\n",
      "1305    female\n",
      "1306      male\n",
      "1307      male\n",
      "1308      male\n",
      "Name: sex, Length: 1309, dtype: object\n"
     ]
    }
   ],
   "source": [
    "print(df.sex)"
   ]
  },
  {
   "cell_type": "code",
   "execution_count": 14,
   "metadata": {},
   "outputs": [
    {
     "name": "stdout",
     "output_type": "stream",
     "text": [
      "      axis_female  axis_male\n",
      "0               1          0\n",
      "1               0          1\n",
      "2               1          0\n",
      "3               0          1\n",
      "4               1          0\n",
      "...           ...        ...\n",
      "1304            1          0\n",
      "1305            1          0\n",
      "1306            0          1\n",
      "1307            0          1\n",
      "1308            0          1\n",
      "\n",
      "[1309 rows x 2 columns]\n"
     ]
    }
   ],
   "source": [
    "dummy_sex = pd.get_dummies(df.sex, prefix='axis')\n",
    "print(dummy_sex)"
   ]
  },
  {
   "cell_type": "code",
   "execution_count": 37,
   "metadata": {},
   "outputs": [
    {
     "name": "stdout",
     "output_type": "stream",
     "text": [
      "      pclass  survived                                             name  \\\n",
      "0          1         1                    Allen, Miss. Elisabeth Walton   \n",
      "1          1         1                   Allison, Master. Hudson Trevor   \n",
      "2          1         0                     Allison, Miss. Helen Loraine   \n",
      "3          1         0             Allison, Mr. Hudson Joshua Creighton   \n",
      "4          1         0  Allison, Mrs. Hudson J C (Bessie Waldo Daniels)   \n",
      "...      ...       ...                                              ...   \n",
      "1304       3         0                             Zabour, Miss. Hileni   \n",
      "1305       3         0                            Zabour, Miss. Thamine   \n",
      "1306       3         0                        Zakarian, Mr. Mapriededer   \n",
      "1307       3         0                              Zakarian, Mr. Ortin   \n",
      "1308       3         0                               Zimmerman, Mr. Leo   \n",
      "\n",
      "          age  sibsp  parch  ticket      fare    cabin embarked boat   body  \\\n",
      "0     29.0000      0      0   24160  211.3375       B5        S    2    NaN   \n",
      "1      0.9167      1      2  113781  151.5500  C22 C26        S   11    NaN   \n",
      "2      2.0000      1      2  113781  151.5500  C22 C26        S  NaN    NaN   \n",
      "3     30.0000      1      2  113781  151.5500  C22 C26        S  NaN  135.0   \n",
      "4     25.0000      1      2  113781  151.5500  C22 C26        S  NaN    NaN   \n",
      "...       ...    ...    ...     ...       ...      ...      ...  ...    ...   \n",
      "1304  14.5000      1      0    2665   14.4542      NaN        C  NaN  328.0   \n",
      "1305      NaN      1      0    2665   14.4542      NaN        C  NaN    NaN   \n",
      "1306  26.5000      0      0    2656    7.2250      NaN        C  NaN  304.0   \n",
      "1307  27.0000      0      0    2670    7.2250      NaN        C  NaN    NaN   \n",
      "1308  29.0000      0      0  315082    7.8750      NaN        S  NaN    NaN   \n",
      "\n",
      "                            home.dest  axis_female  axis_male  \n",
      "0                        St Louis, MO            1          0  \n",
      "1     Montreal, PQ / Chesterville, ON            0          1  \n",
      "2     Montreal, PQ / Chesterville, ON            1          0  \n",
      "3     Montreal, PQ / Chesterville, ON            0          1  \n",
      "4     Montreal, PQ / Chesterville, ON            1          0  \n",
      "...                               ...          ...        ...  \n",
      "1304                              NaN            1          0  \n",
      "1305                              NaN            1          0  \n",
      "1306                              NaN            0          1  \n",
      "1307                              NaN            0          1  \n",
      "1308                              NaN            0          1  \n",
      "\n",
      "[1309 rows x 15 columns]\n"
     ]
    }
   ],
   "source": [
    "df_copy=df.copy()\n",
    "df_copy = df_copy.drop(['sex'], axis=1)\n",
    "df_copy = pd.concat([df_copy, dummy_sex], axis=1)\n",
    "print(df_copy)"
   ]
  },
  {
   "cell_type": "code",
   "execution_count": 38,
   "metadata": {},
   "outputs": [
    {
     "name": "stdout",
     "output_type": "stream",
     "text": [
      "        survived                    \n",
      "pclass         1         2         3\n",
      "sex                                 \n",
      "female  0.965278  0.886792  0.490741\n",
      "male    0.340782  0.146199  0.152130\n"
     ]
    }
   ],
   "source": [
    "sex = df.groupby(['sex', 'pclass'])[['survived']].aggregate('mean').unstack()\n",
    "print(sex)"
   ]
  },
  {
   "cell_type": "code",
   "execution_count": 33,
   "metadata": {},
   "outputs": [
    {
     "name": "stdout",
     "output_type": "stream",
     "text": [
      "pclass         1         2         3\n",
      "sex                                 \n",
      "female  0.965278  0.886792  0.490741\n",
      "male    0.340782  0.146199  0.152130\n"
     ]
    }
   ],
   "source": [
    "sex = df.pivot_table('survived', index='sex', columns='pclass')\n",
    "print(sex)"
   ]
  },
  {
   "cell_type": "code",
   "execution_count": 36,
   "metadata": {},
   "outputs": [
    {
     "name": "stdout",
     "output_type": "stream",
     "text": [
      "              fare                       survived         \n",
      "pclass           1          2          3        1   2    3\n",
      "sex                                                       \n",
      "female  109.412385  23.234827  15.324250      139  94  106\n",
      "male     69.888385  19.904946  12.415462       61  25   75\n"
     ]
    }
   ],
   "source": [
    "sex = df.pivot_table(index='sex', columns='pclass', aggfunc={'survived': sum, 'fare':'mean'})\n",
    "print(sex)"
   ]
  },
  {
   "cell_type": "code",
   "execution_count": null,
   "metadata": {},
   "outputs": [],
   "source": [
    "df1 = pd.DataFrame({\n",
    "    'nombre1': ['María', 'Ana', 'Camila'],\n",
    "    'nombre2': ['Camila', 'María', 'Ana'],\n",
    "    'peso': [60, 65, 70]\n",
    "})\n",
    "\n",
    "df2 = pd.DataFrame({\n",
    "    'nombre1': ['María', 'Ana', 'Camila'],\n",
    "    'altura': [160, 165, 170]\n",
    "})\n",
    "df3 = pd.merge(df1, df2)\n",
    "print(df3)"
   ]
  }
 ],
 "metadata": {
  "kernelspec": {
   "display_name": "Python 3.8.2 32-bit",
   "language": "python",
   "name": "python38232bit81bc11a0cc3e44f8b5babd028da49ccf"
  },
  "language_info": {
   "codemirror_mode": {
    "name": "ipython",
    "version": 3
   },
   "file_extension": ".py",
   "mimetype": "text/x-python",
   "name": "python",
   "nbconvert_exporter": "python",
   "pygments_lexer": "ipython3",
   "version": "3.8.2"
  }
 },
 "nbformat": 4,
 "nbformat_minor": 4
}
